{
 "cells": [
  {
   "cell_type": "code",
   "execution_count": 13,
   "metadata": {},
   "outputs": [
    {
     "name": "stdout",
     "output_type": "stream",
     "text": [
      "25.0\n",
      "25.0\n"
     ]
    }
   ],
   "source": [
    "import tensorflow as tf\n",
    "\n",
    "\n",
    "\n",
    "with tf.name_scope(\"question_1\"):\n",
    "    a = tf.placeholder(tf.float32,name=\"a\")\n",
    "    b = tf.placeholder(tf.float32,name=\"b\")\n",
    "    with tf.name_scope(\"lhs\"):\n",
    "        lhs = (a+b)**2\n",
    "    with tf.name_scope(\"rhs\"):\n",
    "        rhs = a**2+b**2+2*a*b\n",
    "\n",
    "\n",
    "with tf.Session() as sess:\n",
    "    writer = tf.summary.FileWriter(\"/tmp/tboard/assignment-1\", sess.graph)\n",
    "    print(sess.run(lhs,{a:2,b:3}))\n",
    "    print(sess.run(rhs,{a:2,b:3}))\n",
    "    writer.close()"
   ]
  },
  {
   "cell_type": "code",
   "execution_count": 12,
   "metadata": {},
   "outputs": [
    {
     "name": "stdout",
     "output_type": "stream",
     "text": [
      "9.0\n",
      "9.0\n"
     ]
    }
   ],
   "source": [
    "import tensorflow as tf\n",
    "\n",
    "\n",
    "with tf.name_scope(\"question_2\"):\n",
    "    a = tf.placeholder(tf.float32,name=\"a\")\n",
    "    b = tf.placeholder(tf.float32,name=\"b\")\n",
    "    c = tf.placeholder(tf.float32,name=\"c\")\n",
    "    with tf.name_scope(\"lhs\"):\n",
    "        lhs = (a - b + c ) ** 2\n",
    "    with tf.name_scope(\"rhs\"):\n",
    "        rhs = a ** 2 + b ** 2 + c ** 2 - 2 * a * b - 2 * b * c + 2 * a *c\n",
    "\n",
    "\n",
    "with tf.Session() as sess:\n",
    "    writer = tf.summary.FileWriter(\"/tmp/tboard/assignment-1-2\", sess.graph)\n",
    "    print(sess.run(lhs,{a:2,b:3,c:4}))\n",
    "    print(sess.run(rhs,{a:2,b:3,c:4}))\n",
    "    writer.close()"
   ]
  }
 ],
 "metadata": {
  "kernelspec": {
   "display_name": "Python 3",
   "language": "python",
   "name": "python3"
  },
  "language_info": {
   "codemirror_mode": {
    "name": "ipython",
    "version": 3
   },
   "file_extension": ".py",
   "mimetype": "text/x-python",
   "name": "python",
   "nbconvert_exporter": "python",
   "pygments_lexer": "ipython3",
   "version": "3.6.1"
  }
 },
 "nbformat": 4,
 "nbformat_minor": 2
}
