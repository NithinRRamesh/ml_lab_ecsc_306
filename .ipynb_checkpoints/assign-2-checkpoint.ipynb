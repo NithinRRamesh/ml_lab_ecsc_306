{
 "cells": [
  {
   "cell_type": "code",
   "execution_count": null,
   "metadata": {},
   "outputs": [],
   "source": [
    "import tensorflow as tf\n",
    "\n",
    "x = [1,3,5,7,9]\n",
    "y = [2,3,4,7,8]\n",
    "n = int(input(\"Enter the size of array :\")) \n",
    "print(\"Enter x values : \")\n",
    "for i in range(n):\n",
    "    x.append(int(input()))\n",
    "print(\"Enter y values : \")\n",
    "for i in range(n):\n",
    "    y.append(int(input()))\n",
    "print(x)\n",
    "print(y)\n",
    "\n",
    "sess = tf.Session()\n",
    "mx = sess.run(tf.reduce_mean(x))\n",
    "my = sess.run(tf.reduce_mean(y))\n",
    "\n",
    "print(\"Mean(x) =\",mx)\n",
    "print(\"Mean(y) =\",my)\n",
    "\n",
    "\n",
    "vx = 0.0\n",
    "for i in range(len(x)):\n",
    "    vx = vx +(x[i]-mx)**2\n",
    "\n",
    "vy = 0.0\n",
    "for i in range(len(y)):\n",
    "    vy = vy +(y[i]-my)**2\n",
    "print(\"variance(x) : \",vx)\n",
    "print(\"variance(y) : \",vy)\n",
    "\n",
    "cv = 0.0 \n",
    "\n",
    "for i in range(len(y)):\n",
    "    cv = cv +((x[i]-mx)*(y[i]-my))\n",
    "\n",
    "print(\"Covariance = \",cv)\n",
    "\n",
    "m = float(cv)/float(vx)\n",
    "print(\"m = \",m)\n",
    "\n",
    "c  = my - m * mx\n",
    "print(\"c = \",c)\n",
    "\n",
    "%pylab inline\n",
    "import matplotlib.pyplot as plt\n",
    "plt.plot(x,y,'ro')\n",
    "plt.show()\n"
   ]
  }
 ],
 "metadata": {
  "kernelspec": {
   "display_name": "Python 3",
   "language": "python",
   "name": "python3"
  },
  "language_info": {
   "codemirror_mode": {
    "name": "ipython",
    "version": 3
   },
   "file_extension": ".py",
   "mimetype": "text/x-python",
   "name": "python",
   "nbconvert_exporter": "python",
   "pygments_lexer": "ipython3",
   "version": "3.6.1"
  }
 },
 "nbformat": 4,
 "nbformat_minor": 2
}
