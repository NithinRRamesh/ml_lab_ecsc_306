{
 "cells": [
  {
   "cell_type": "code",
   "execution_count": 13,
   "metadata": {},
   "outputs": [
    {
     "name": "stdout",
     "output_type": "stream",
     "text": [
      "Enter the size of array :0\n",
      "Enter x values : \n",
      "Enter y values : \n",
      "[1, 3, 5, 7, 9]\n",
      "[2, 3, 4, 7, 8]\n",
      "Mean(x) = 5\n",
      "Mean(y) = 4\n",
      "variance(x) :  40.0\n",
      "variance(y) :  30.0\n",
      "Covariance =  32.0\n",
      "m =  0.8\n",
      "c =  0.0\n",
      "Populating the interactive namespace from numpy and matplotlib\n"
     ]
    },
    {
     "ename": "AttributeError",
     "evalue": "module 'matplotlib.pyplot' has no attribute 'regplot'",
     "output_type": "error",
     "traceback": [
      "\u001b[0;31m---------------------------------------------------------------------------\u001b[0m",
      "\u001b[0;31mAttributeError\u001b[0m                            Traceback (most recent call last)",
      "\u001b[0;32m<ipython-input-13-c28d03784ae7>\u001b[0m in \u001b[0;36m<module>\u001b[0;34m()\u001b[0m\n\u001b[1;32m     46\u001b[0m \u001b[0mget_ipython\u001b[0m\u001b[0;34m(\u001b[0m\u001b[0;34m)\u001b[0m\u001b[0;34m.\u001b[0m\u001b[0mmagic\u001b[0m\u001b[0;34m(\u001b[0m\u001b[0;34m'pylab inline'\u001b[0m\u001b[0;34m)\u001b[0m\u001b[0;34m\u001b[0m\u001b[0m\n\u001b[1;32m     47\u001b[0m \u001b[0;32mimport\u001b[0m \u001b[0mmatplotlib\u001b[0m\u001b[0;34m.\u001b[0m\u001b[0mpyplot\u001b[0m \u001b[0;32mas\u001b[0m \u001b[0mplt\u001b[0m\u001b[0;34m\u001b[0m\u001b[0m\n\u001b[0;32m---> 48\u001b[0;31m \u001b[0mplt\u001b[0m\u001b[0;34m.\u001b[0m\u001b[0mregplot\u001b[0m\u001b[0;34m(\u001b[0m\u001b[0mx\u001b[0m\u001b[0;34m,\u001b[0m\u001b[0my\u001b[0m\u001b[0;34m,\u001b[0m\u001b[0;34m'ro'\u001b[0m\u001b[0;34m)\u001b[0m\u001b[0;34m\u001b[0m\u001b[0m\n\u001b[0m\u001b[1;32m     49\u001b[0m \u001b[0mplt\u001b[0m\u001b[0;34m.\u001b[0m\u001b[0mshow\u001b[0m\u001b[0;34m(\u001b[0m\u001b[0;34m)\u001b[0m\u001b[0;34m\u001b[0m\u001b[0m\n",
      "\u001b[0;31mAttributeError\u001b[0m: module 'matplotlib.pyplot' has no attribute 'regplot'"
     ]
    }
   ],
   "source": [
    "import tensorflow as tf\n",
    "\n",
    "x = [1,3,5,7,9]\n",
    "y = [2,3,4,7,8]\n",
    "n = int(input(\"Enter the size of array :\")) \n",
    "print(\"Enter x values : \")\n",
    "for i in range(n):\n",
    "    x.append(int(input()))\n",
    "print(\"Enter y values : \")\n",
    "for i in range(n):\n",
    "    y.append(int(input()))\n",
    "print(x)\n",
    "print(y)\n",
    "\n",
    "sess = tf.Session()\n",
    "mx = sess.run(tf.reduce_mean(x))\n",
    "my = sess.run(tf.reduce_mean(y))\n",
    "\n",
    "print(\"Mean(x) =\",mx)\n",
    "print(\"Mean(y) =\",my)\n",
    "\n",
    "\n",
    "vx = 0.0\n",
    "for i in range(len(x)):\n",
    "    vx = vx +(x[i]-mx)**2\n",
    "\n",
    "vy = 0.0\n",
    "for i in range(len(y)):\n",
    "    vy = vy +(y[i]-my)**2\n",
    "print(\"variance(x) : \",vx)\n",
    "print(\"variance(y) : \",vy)\n",
    "\n",
    "cv = 0.0 \n",
    "\n",
    "for i in range(len(y)):\n",
    "    cv = cv +((x[i]-mx)*(y[i]-my))\n",
    "\n",
    "print(\"Covariance = \",cv)\n",
    "\n",
    "m = float(cv)/float(vx)\n",
    "print(\"m = \",m)\n",
    "\n",
    "c  = my - m * mx\n",
    "print(\"c = \",c)\n",
    "\n",
    "%pylab inline\n",
    "import matplotlib.pyplot as plt\n",
    "plt.regplot(x,y,'ro')\n",
    "plt.show()\n"
   ]
  }
 ],
 "metadata": {
  "kernelspec": {
   "display_name": "Python 3",
   "language": "python",
   "name": "python3"
  },
  "language_info": {
   "codemirror_mode": {
    "name": "ipython",
    "version": 3
   },
   "file_extension": ".py",
   "mimetype": "text/x-python",
   "name": "python",
   "nbconvert_exporter": "python",
   "pygments_lexer": "ipython3",
   "version": "3.6.1"
  }
 },
 "nbformat": 4,
 "nbformat_minor": 2
}
